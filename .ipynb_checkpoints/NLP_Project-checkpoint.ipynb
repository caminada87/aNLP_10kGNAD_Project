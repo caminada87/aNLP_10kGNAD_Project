{
 "cells": [
  {
   "cell_type": "markdown",
   "id": "bfb6ed62",
   "metadata": {},
   "source": [
    "# Project assignment  - 10k German News Articles\n",
    "\n",
    "Author: Stefan Caminada <br>\n",
    "Start: 2022-11-08\n",
    "\n",
    "## Scope\n",
    "\n",
    "### The task itself\n",
    "The goal is to automatically classify newspaper articles with their topic. The data source can be found here: <a href=\"https://github.com/tblock/10kGNAD\">10k German News Articles - Dataset</a>\n",
    "\n",
    "### Assessed Factors\n",
    "- clean and improve data\n",
    "- apply exploratory data analysis on the text (understand main characteristics)\n",
    "- train a base model\n",
    "- evaluate base model\n",
    "- improve base models performance\n",
    "- train/evaluate/improve advanced models"
   ]
  },
  {
   "cell_type": "markdown",
   "id": "9d491d0c",
   "metadata": {},
   "source": [
    "## download data as proposed"
   ]
  },
  {
   "cell_type": "code",
   "execution_count": 1,
   "id": "c2f9d954",
   "metadata": {},
   "outputs": [
    {
     "name": "stdout",
     "output_type": "stream",
     "text": [
      "Requirement already satisfied: fhnw-nlp-utils in c:\\programdata\\anaconda3\\envs\\tf-gpu\\lib\\site-packages (0.4.8)\n",
      "Requirement already satisfied: pyarrow in c:\\programdata\\anaconda3\\envs\\tf-gpu\\lib\\site-packages (from fhnw-nlp-utils) (10.0.0)\n",
      "Requirement already satisfied: psutil in c:\\programdata\\anaconda3\\envs\\tf-gpu\\lib\\site-packages (from fhnw-nlp-utils) (5.9.4)\n",
      "Requirement already satisfied: nltk in c:\\programdata\\anaconda3\\envs\\tf-gpu\\lib\\site-packages (from fhnw-nlp-utils) (3.7)\n",
      "Requirement already satisfied: matplotlib in c:\\programdata\\anaconda3\\envs\\tf-gpu\\lib\\site-packages (from fhnw-nlp-utils) (3.5.1)\n",
      "Requirement already satisfied: wordcloud in c:\\programdata\\anaconda3\\envs\\tf-gpu\\lib\\site-packages (from fhnw-nlp-utils) (1.8.2.2)\n",
      "Requirement already satisfied: gdown in c:\\programdata\\anaconda3\\envs\\tf-gpu\\lib\\site-packages (from fhnw-nlp-utils) (4.5.3)\n",
      "Requirement already satisfied: compound-split in c:\\programdata\\anaconda3\\envs\\tf-gpu\\lib\\site-packages (from fhnw-nlp-utils) (1.0.2)\n",
      "Requirement already satisfied: numpy in c:\\programdata\\anaconda3\\envs\\tf-gpu\\lib\\site-packages (from fhnw-nlp-utils) (1.21.5)\n",
      "Requirement already satisfied: pandas in c:\\programdata\\anaconda3\\envs\\tf-gpu\\lib\\site-packages (from fhnw-nlp-utils) (1.4.1)\n",
      "Requirement already satisfied: scikit-learn in c:\\programdata\\anaconda3\\envs\\tf-gpu\\lib\\site-packages (from fhnw-nlp-utils) (1.0.2)\n",
      "Requirement already satisfied: multiprocess in c:\\programdata\\anaconda3\\envs\\tf-gpu\\lib\\site-packages (from fhnw-nlp-utils) (0.70.14)\n",
      "Requirement already satisfied: wget in c:\\programdata\\anaconda3\\envs\\tf-gpu\\lib\\site-packages (from fhnw-nlp-utils) (3.2)\n",
      "Requirement already satisfied: six in c:\\programdata\\anaconda3\\envs\\tf-gpu\\lib\\site-packages (from gdown->fhnw-nlp-utils) (1.16.0)\n",
      "Requirement already satisfied: beautifulsoup4 in c:\\programdata\\anaconda3\\envs\\tf-gpu\\lib\\site-packages (from gdown->fhnw-nlp-utils) (4.11.1)\n",
      "Requirement already satisfied: filelock in c:\\programdata\\anaconda3\\envs\\tf-gpu\\lib\\site-packages (from gdown->fhnw-nlp-utils) (3.8.0)\n",
      "Requirement already satisfied: requests[socks] in c:\\programdata\\anaconda3\\envs\\tf-gpu\\lib\\site-packages (from gdown->fhnw-nlp-utils) (2.27.1)\n",
      "Requirement already satisfied: tqdm in c:\\programdata\\anaconda3\\envs\\tf-gpu\\lib\\site-packages (from gdown->fhnw-nlp-utils) (4.64.0)\n",
      "Requirement already satisfied: soupsieve>1.2 in c:\\programdata\\anaconda3\\envs\\tf-gpu\\lib\\site-packages (from beautifulsoup4->gdown->fhnw-nlp-utils) (2.3.2.post1)\n",
      "Requirement already satisfied: fonttools>=4.22.0 in c:\\programdata\\anaconda3\\envs\\tf-gpu\\lib\\site-packages (from matplotlib->fhnw-nlp-utils) (4.25.0)\n",
      "Requirement already satisfied: kiwisolver>=1.0.1 in c:\\programdata\\anaconda3\\envs\\tf-gpu\\lib\\site-packages (from matplotlib->fhnw-nlp-utils) (1.3.2)\n",
      "Requirement already satisfied: python-dateutil>=2.7 in c:\\programdata\\anaconda3\\envs\\tf-gpu\\lib\\site-packages (from matplotlib->fhnw-nlp-utils) (2.8.2)\n",
      "Requirement already satisfied: packaging>=20.0 in c:\\programdata\\anaconda3\\envs\\tf-gpu\\lib\\site-packages (from matplotlib->fhnw-nlp-utils) (21.3)\n",
      "Requirement already satisfied: cycler>=0.10 in c:\\programdata\\anaconda3\\envs\\tf-gpu\\lib\\site-packages (from matplotlib->fhnw-nlp-utils) (0.11.0)\n",
      "Requirement already satisfied: pillow>=6.2.0 in c:\\programdata\\anaconda3\\envs\\tf-gpu\\lib\\site-packages (from matplotlib->fhnw-nlp-utils) (9.0.1)\n",
      "Requirement already satisfied: pyparsing>=2.2.1 in c:\\programdata\\anaconda3\\envs\\tf-gpu\\lib\\site-packages (from matplotlib->fhnw-nlp-utils) (3.0.4)\n",
      "Requirement already satisfied: dill>=0.3.6 in c:\\programdata\\anaconda3\\envs\\tf-gpu\\lib\\site-packages (from multiprocess->fhnw-nlp-utils) (0.3.6)\n",
      "Requirement already satisfied: click in c:\\programdata\\anaconda3\\envs\\tf-gpu\\lib\\site-packages (from nltk->fhnw-nlp-utils) (8.0.4)\n",
      "Requirement already satisfied: joblib in c:\\programdata\\anaconda3\\envs\\tf-gpu\\lib\\site-packages (from nltk->fhnw-nlp-utils) (1.1.0)\n",
      "Requirement already satisfied: regex>=2021.8.3 in c:\\programdata\\anaconda3\\envs\\tf-gpu\\lib\\site-packages (from nltk->fhnw-nlp-utils) (2022.10.31)\n",
      "Requirement already satisfied: colorama in c:\\programdata\\anaconda3\\envs\\tf-gpu\\lib\\site-packages (from click->nltk->fhnw-nlp-utils) (0.4.4)\n",
      "Requirement already satisfied: pytz>=2020.1 in c:\\programdata\\anaconda3\\envs\\tf-gpu\\lib\\site-packages (from pandas->fhnw-nlp-utils) (2021.3)\n",
      "Requirement already satisfied: idna<4,>=2.5 in c:\\programdata\\anaconda3\\envs\\tf-gpu\\lib\\site-packages (from requests[socks]->gdown->fhnw-nlp-utils) (3.3)\n",
      "Requirement already satisfied: certifi>=2017.4.17 in c:\\programdata\\anaconda3\\envs\\tf-gpu\\lib\\site-packages (from requests[socks]->gdown->fhnw-nlp-utils) (2022.6.15)\n",
      "Requirement already satisfied: urllib3<1.27,>=1.21.1 in c:\\programdata\\anaconda3\\envs\\tf-gpu\\lib\\site-packages (from requests[socks]->gdown->fhnw-nlp-utils) (1.26.8)\n",
      "Requirement already satisfied: charset-normalizer~=2.0.0 in c:\\programdata\\anaconda3\\envs\\tf-gpu\\lib\\site-packages (from requests[socks]->gdown->fhnw-nlp-utils) (2.0.4)\n",
      "Requirement already satisfied: PySocks!=1.5.7,>=1.5.6 in c:\\programdata\\anaconda3\\envs\\tf-gpu\\lib\\site-packages (from requests[socks]->gdown->fhnw-nlp-utils) (1.7.1)\n",
      "Requirement already satisfied: threadpoolctl>=2.0.0 in c:\\programdata\\anaconda3\\envs\\tf-gpu\\lib\\site-packages (from scikit-learn->fhnw-nlp-utils) (3.1.0)\n",
      "Requirement already satisfied: scipy>=1.1.0 in c:\\programdata\\anaconda3\\envs\\tf-gpu\\lib\\site-packages (from scikit-learn->fhnw-nlp-utils) (1.7.3)\n"
     ]
    }
   ],
   "source": [
    "!pip install fhnw-nlp-utils"
   ]
  },
  {
   "cell_type": "code",
   "execution_count": 2,
   "id": "7ae83f9a",
   "metadata": {},
   "outputs": [],
   "source": [
    "%%capture\n",
    "\n",
    "from fhnw.nlp.utils.processing import parallelize_dataframe\n",
    "from fhnw.nlp.utils.processing import is_iterable\n",
    "from fhnw.nlp.utils.storage import download\n",
    "from fhnw.nlp.utils.storage import save_dataframe\n",
    "from fhnw.nlp.utils.storage import load_dataframe\n",
    "\n",
    "import pandas as pd\n",
    "import numpy as np"
   ]
  },
  {
   "cell_type": "code",
   "execution_count": 3,
   "id": "29f7efa5",
   "metadata": {},
   "outputs": [],
   "source": [
    "file = \"data/german_news_articles_original_train.parq\"\n",
    "download(\"https://drive.google.com/uc?id=1EuluVm0PX-akbh_EN-jZM2QbxXZ1uDeq\", file)\n",
    "data_train = load_dataframe(file)\n",
    "\n",
    "file = \"data/german_news_articles_original_test.parq\"\n",
    "download(\"https://drive.google.com/uc?id=1XI2yUaDaAy0PlD-ETiK8VMV_W1vOQ97n\", file)\n",
    "data_test = load_dataframe(file)"
   ]
  },
  {
   "cell_type": "code",
   "execution_count": 4,
   "id": "47430093",
   "metadata": {},
   "outputs": [
    {
     "name": "stdout",
     "output_type": "stream",
     "text": [
      "(9245, 2)\n",
      "(1028, 2)\n"
     ]
    }
   ],
   "source": [
    "print(data_train.shape)\n",
    "print(data_test.shape)"
   ]
  },
  {
   "cell_type": "code",
   "execution_count": 5,
   "id": "141818b7",
   "metadata": {},
   "outputs": [
    {
     "data": {
      "text/html": [
       "<div>\n",
       "<style scoped>\n",
       "    .dataframe tbody tr th:only-of-type {\n",
       "        vertical-align: middle;\n",
       "    }\n",
       "\n",
       "    .dataframe tbody tr th {\n",
       "        vertical-align: top;\n",
       "    }\n",
       "\n",
       "    .dataframe thead th {\n",
       "        text-align: right;\n",
       "    }\n",
       "</style>\n",
       "<table border=\"1\" class=\"dataframe\">\n",
       "  <thead>\n",
       "    <tr style=\"text-align: right;\">\n",
       "      <th></th>\n",
       "      <th>text_original</th>\n",
       "      <th>label</th>\n",
       "    </tr>\n",
       "  </thead>\n",
       "  <tbody>\n",
       "    <tr>\n",
       "      <th>0</th>\n",
       "      <td>21-Jähriger fällt wohl bis Saisonende aus. Wie...</td>\n",
       "      <td>Sport</td>\n",
       "    </tr>\n",
       "    <tr>\n",
       "      <th>1</th>\n",
       "      <td>Erfundene Bilder zu Filmen, die als verloren g...</td>\n",
       "      <td>Kultur</td>\n",
       "    </tr>\n",
       "    <tr>\n",
       "      <th>2</th>\n",
       "      <td>Der frischgekürte CEO Sundar Pichai setzt auf ...</td>\n",
       "      <td>Web</td>\n",
       "    </tr>\n",
       "  </tbody>\n",
       "</table>\n",
       "</div>"
      ],
      "text/plain": [
       "                                       text_original   label\n",
       "0  21-Jähriger fällt wohl bis Saisonende aus. Wie...   Sport\n",
       "1  Erfundene Bilder zu Filmen, die als verloren g...  Kultur\n",
       "2  Der frischgekürte CEO Sundar Pichai setzt auf ...     Web"
      ]
     },
     "execution_count": 5,
     "metadata": {},
     "output_type": "execute_result"
    }
   ],
   "source": [
    "data_train.head(3)"
   ]
  },
  {
   "cell_type": "code",
   "execution_count": 6,
   "id": "7050a999",
   "metadata": {},
   "outputs": [
    {
     "data": {
      "text/html": [
       "<div>\n",
       "<style scoped>\n",
       "    .dataframe tbody tr th:only-of-type {\n",
       "        vertical-align: middle;\n",
       "    }\n",
       "\n",
       "    .dataframe tbody tr th {\n",
       "        vertical-align: top;\n",
       "    }\n",
       "\n",
       "    .dataframe thead th {\n",
       "        text-align: right;\n",
       "    }\n",
       "</style>\n",
       "<table border=\"1\" class=\"dataframe\">\n",
       "  <thead>\n",
       "    <tr style=\"text-align: right;\">\n",
       "      <th></th>\n",
       "      <th>text_original</th>\n",
       "      <th>label</th>\n",
       "    </tr>\n",
       "  </thead>\n",
       "  <tbody>\n",
       "    <tr>\n",
       "      <th>0</th>\n",
       "      <td>Die Gewerkschaft GPA-djp lanciert den \"All-in-...</td>\n",
       "      <td>Wirtschaft</td>\n",
       "    </tr>\n",
       "    <tr>\n",
       "      <th>1</th>\n",
       "      <td>Franzosen verteidigen 2:1-Führung – Kritische ...</td>\n",
       "      <td>Sport</td>\n",
       "    </tr>\n",
       "    <tr>\n",
       "      <th>2</th>\n",
       "      <td>Neues Video von Designern macht im Netz die Ru...</td>\n",
       "      <td>Web</td>\n",
       "    </tr>\n",
       "  </tbody>\n",
       "</table>\n",
       "</div>"
      ],
      "text/plain": [
       "                                       text_original       label\n",
       "0  Die Gewerkschaft GPA-djp lanciert den \"All-in-...  Wirtschaft\n",
       "1  Franzosen verteidigen 2:1-Führung – Kritische ...       Sport\n",
       "2  Neues Video von Designern macht im Netz die Ru...         Web"
      ]
     },
     "execution_count": 6,
     "metadata": {},
     "output_type": "execute_result"
    }
   ],
   "source": [
    "data_test.head(3)"
   ]
  },
  {
   "cell_type": "code",
   "execution_count": 7,
   "id": "72226abf",
   "metadata": {},
   "outputs": [],
   "source": [
    "data = pd.concat([data_train, data_test])"
   ]
  },
  {
   "cell_type": "code",
   "execution_count": 8,
   "id": "d0cac1f3",
   "metadata": {},
   "outputs": [
    {
     "data": {
      "text/html": [
       "<div>\n",
       "<style scoped>\n",
       "    .dataframe tbody tr th:only-of-type {\n",
       "        vertical-align: middle;\n",
       "    }\n",
       "\n",
       "    .dataframe tbody tr th {\n",
       "        vertical-align: top;\n",
       "    }\n",
       "\n",
       "    .dataframe thead th {\n",
       "        text-align: right;\n",
       "    }\n",
       "</style>\n",
       "<table border=\"1\" class=\"dataframe\">\n",
       "  <thead>\n",
       "    <tr style=\"text-align: right;\">\n",
       "      <th></th>\n",
       "      <th>text_original</th>\n",
       "      <th>label</th>\n",
       "    </tr>\n",
       "  </thead>\n",
       "  <tbody>\n",
       "    <tr>\n",
       "      <th>0</th>\n",
       "      <td>21-Jähriger fällt wohl bis Saisonende aus. Wie...</td>\n",
       "      <td>Sport</td>\n",
       "    </tr>\n",
       "    <tr>\n",
       "      <th>1</th>\n",
       "      <td>Erfundene Bilder zu Filmen, die als verloren g...</td>\n",
       "      <td>Kultur</td>\n",
       "    </tr>\n",
       "    <tr>\n",
       "      <th>2</th>\n",
       "      <td>Der frischgekürte CEO Sundar Pichai setzt auf ...</td>\n",
       "      <td>Web</td>\n",
       "    </tr>\n",
       "  </tbody>\n",
       "</table>\n",
       "</div>"
      ],
      "text/plain": [
       "                                       text_original   label\n",
       "0  21-Jähriger fällt wohl bis Saisonende aus. Wie...   Sport\n",
       "1  Erfundene Bilder zu Filmen, die als verloren g...  Kultur\n",
       "2  Der frischgekürte CEO Sundar Pichai setzt auf ...     Web"
      ]
     },
     "execution_count": 8,
     "metadata": {},
     "output_type": "execute_result"
    }
   ],
   "source": [
    "data.head(3)"
   ]
  },
  {
   "cell_type": "markdown",
   "id": "07d519de",
   "metadata": {},
   "source": [
    "## cleaning / improving"
   ]
  },
  {
   "cell_type": "code",
   "execution_count": 9,
   "id": "10ec426e",
   "metadata": {},
   "outputs": [
    {
     "name": "stdout",
     "output_type": "stream",
     "text": [
      "Requirement already satisfied: missingno in c:\\programdata\\anaconda3\\envs\\tf-gpu\\lib\\site-packages (0.5.1)\n",
      "Requirement already satisfied: scipy in c:\\programdata\\anaconda3\\envs\\tf-gpu\\lib\\site-packages (from missingno) (1.7.3)\n",
      "Requirement already satisfied: numpy in c:\\programdata\\anaconda3\\envs\\tf-gpu\\lib\\site-packages (from missingno) (1.21.5)\n",
      "Requirement already satisfied: matplotlib in c:\\programdata\\anaconda3\\envs\\tf-gpu\\lib\\site-packages (from missingno) (3.5.1)\n",
      "Requirement already satisfied: seaborn in c:\\programdata\\anaconda3\\envs\\tf-gpu\\lib\\site-packages (from missingno) (0.12.1)\n",
      "Requirement already satisfied: pillow>=6.2.0 in c:\\programdata\\anaconda3\\envs\\tf-gpu\\lib\\site-packages (from matplotlib->missingno) (9.0.1)\n",
      "Requirement already satisfied: fonttools>=4.22.0 in c:\\programdata\\anaconda3\\envs\\tf-gpu\\lib\\site-packages (from matplotlib->missingno) (4.25.0)\n",
      "Requirement already satisfied: cycler>=0.10 in c:\\programdata\\anaconda3\\envs\\tf-gpu\\lib\\site-packages (from matplotlib->missingno) (0.11.0)\n",
      "Requirement already satisfied: python-dateutil>=2.7 in c:\\programdata\\anaconda3\\envs\\tf-gpu\\lib\\site-packages (from matplotlib->missingno) (2.8.2)\n",
      "Requirement already satisfied: pyparsing>=2.2.1 in c:\\programdata\\anaconda3\\envs\\tf-gpu\\lib\\site-packages (from matplotlib->missingno) (3.0.4)\n",
      "Requirement already satisfied: packaging>=20.0 in c:\\programdata\\anaconda3\\envs\\tf-gpu\\lib\\site-packages (from matplotlib->missingno) (21.3)\n",
      "Requirement already satisfied: kiwisolver>=1.0.1 in c:\\programdata\\anaconda3\\envs\\tf-gpu\\lib\\site-packages (from matplotlib->missingno) (1.3.2)\n",
      "Requirement already satisfied: six>=1.5 in c:\\programdata\\anaconda3\\envs\\tf-gpu\\lib\\site-packages (from python-dateutil>=2.7->matplotlib->missingno) (1.16.0)\n",
      "Requirement already satisfied: pandas>=0.25 in c:\\programdata\\anaconda3\\envs\\tf-gpu\\lib\\site-packages (from seaborn->missingno) (1.4.1)\n",
      "Requirement already satisfied: pytz>=2020.1 in c:\\programdata\\anaconda3\\envs\\tf-gpu\\lib\\site-packages (from pandas>=0.25->seaborn->missingno) (2021.3)\n"
     ]
    }
   ],
   "source": [
    "!pip install missingno\n",
    "\n",
    "import missingno as msno\n",
    "%matplotlib inline"
   ]
  },
  {
   "cell_type": "code",
   "execution_count": 10,
   "id": "1c8e9b78",
   "metadata": {},
   "outputs": [
    {
     "data": {
      "text/plain": [
       "<AxesSubplot:>"
      ]
     },
     "execution_count": 10,
     "metadata": {},
     "output_type": "execute_result"
    },
    {
     "data": {
      "image/png": "[encoded data removed]",
      "text/plain": [
       "<Figure size 1800x720 with 2 Axes>"
      ]
     },
     "metadata": {
      "needs_background": "light"
     },
     "output_type": "display_data"
    }
   ],
   "source": [
    "msno.matrix(data)"
   ]
  },
  {
   "cell_type": "code",
   "execution_count": 11,
   "id": "8c30867e",
   "metadata": {},
   "outputs": [
    {
     "name": "stdout",
     "output_type": "stream",
     "text": [
      "text_original 0\n",
      "label 0\n"
     ]
    }
   ],
   "source": [
    "for col in data.columns:\n",
    "    print(col, data[col].isnull().sum())"
   ]
  },
  {
   "cell_type": "markdown",
   "id": "d58561f7",
   "metadata": {},
   "source": [
    "> Great! There is no missing Data!"
   ]
  },
  {
   "cell_type": "code",
   "execution_count": 12,
   "id": "e768ba0b",
   "metadata": {},
   "outputs": [
    {
     "data": {
      "text/html": [
       "<div>\n",
       "<style scoped>\n",
       "    .dataframe tbody tr th:only-of-type {\n",
       "        vertical-align: middle;\n",
       "    }\n",
       "\n",
       "    .dataframe tbody tr th {\n",
       "        vertical-align: top;\n",
       "    }\n",
       "\n",
       "    .dataframe thead th {\n",
       "        text-align: right;\n",
       "    }\n",
       "</style>\n",
       "<table border=\"1\" class=\"dataframe\">\n",
       "  <thead>\n",
       "    <tr style=\"text-align: right;\">\n",
       "      <th></th>\n",
       "      <th>text_original</th>\n",
       "      <th>label</th>\n",
       "    </tr>\n",
       "  </thead>\n",
       "  <tbody>\n",
       "  </tbody>\n",
       "</table>\n",
       "</div>"
      ],
      "text/plain": [
       "Empty DataFrame\n",
       "Columns: [text_original, label]\n",
       "Index: []"
      ]
     },
     "execution_count": 12,
     "metadata": {},
     "output_type": "execute_result"
    }
   ],
   "source": [
    "data[data[\"text_original\"].str.contains(\"/>\", na=False)]"
   ]
  },
  {
   "cell_type": "code",
   "execution_count": 13,
   "id": "57d8ad46",
   "metadata": {},
   "outputs": [],
   "source": [
    "def clean_text(text, keep_punctuation=False):\n",
    "    \"\"\"Cleans text by removing html tags, non ascii chars, digits and optionally punctuation\n",
    "\n",
    "    Parameters\n",
    "    ----------\n",
    "    text : str\n",
    "        The text to clean\n",
    "    keep_punctuation : bool\n",
    "        Defines if punctuation should be kept\n",
    "        \n",
    "    Returns\n",
    "    -------\n",
    "    str\n",
    "        The cleaned text\n",
    "    \"\"\"\n",
    "    import re\n",
    "    RE_TAGS = re.compile(r\"<[^>]+>\")\n",
    "    RE_WSPACE = re.compile(r\"\\s+\", re.IGNORECASE)\n",
    "    \n",
    "    # remove any html tags (< /br> often found)\n",
    "    text = re.sub(RE_TAGS, \" \", text)\n",
    "    \n",
    "    if keep_punctuation:\n",
    "        RE_ASCII_PUNCTUATION = re.compile(r\"[^A-Za-zÀ-ž,.!? ]\", re.IGNORECASE)\n",
    "        RE_SINGLECHAR_PUNCTUATION = re.compile(r\"\\b[A-Za-zÀ-ž,.!?]\\b\", re.IGNORECASE)\n",
    "    \n",
    "        # keep only ASCII + European Chars and whitespace, no digits, keep punctuation\n",
    "        text = re.sub(RE_ASCII_PUNCTUATION, \" \", text)\n",
    "        # convert all whitespaces (tabs etc.) to single wspace, keep punctuation\n",
    "        text = re.sub(RE_SINGLECHAR_PUNCTUATION, \" \", text)\n",
    "    else:\n",
    "        RE_ASCII = re.compile(r\"[^A-Za-zÀ-ž ]\", re.IGNORECASE)\n",
    "        RE_SINGLECHAR = re.compile(r\"\\b[A-Za-zÀ-ž]\\b\", re.IGNORECASE)\n",
    "        \n",
    "        # keep only ASCII + European Chars and whitespace, no digits, no punctuation\n",
    "        text = re.sub(RE_ASCII, \" \", text)\n",
    "        # convert all whitespaces (tabs etc.) to single wspace\n",
    "        text = re.sub(RE_SINGLECHAR, \" \", text)     \n",
    "    \n",
    "    text = re.sub(RE_WSPACE, \" \", text)  \n",
    "    return text"
   ]
  },
  {
   "cell_type": "code",
   "execution_count": 14,
   "id": "2b1ed2da",
   "metadata": {},
   "outputs": [
    {
     "name": "stdout",
     "output_type": "stream",
     "text": [
      "CPU times: total: 62.5 ms\n",
      "Wall time: 1.55 s\n"
     ]
    }
   ],
   "source": [
    "%%time\n",
    "data = data.drop([\"text\"], axis=1, errors='ignore')\n",
    "data = parallelize_dataframe(data, clean_text, field_read=\"text_original\", field_write=\"text\", keep_punctuation=True)"
   ]
  },
  {
   "cell_type": "code",
   "execution_count": 15,
   "id": "f7a93b41",
   "metadata": {},
   "outputs": [
    {
     "data": {
      "text/html": [
       "<div>\n",
       "<style scoped>\n",
       "    .dataframe tbody tr th:only-of-type {\n",
       "        vertical-align: middle;\n",
       "    }\n",
       "\n",
       "    .dataframe tbody tr th {\n",
       "        vertical-align: top;\n",
       "    }\n",
       "\n",
       "    .dataframe thead th {\n",
       "        text-align: right;\n",
       "    }\n",
       "</style>\n",
       "<table border=\"1\" class=\"dataframe\">\n",
       "  <thead>\n",
       "    <tr style=\"text-align: right;\">\n",
       "      <th></th>\n",
       "      <th>text_original</th>\n",
       "      <th>label</th>\n",
       "      <th>text</th>\n",
       "    </tr>\n",
       "  </thead>\n",
       "  <tbody>\n",
       "  </tbody>\n",
       "</table>\n",
       "</div>"
      ],
      "text/plain": [
       "Empty DataFrame\n",
       "Columns: [text_original, label, text]\n",
       "Index: []"
      ]
     },
     "execution_count": 15,
     "metadata": {},
     "output_type": "execute_result"
    }
   ],
   "source": [
    "data[~data[\"text\"].str.contains(\"[A-Za-z]\", na=False)]"
   ]
  },
  {
   "cell_type": "code",
   "execution_count": 16,
   "id": "d97cfc60",
   "metadata": {},
   "outputs": [
    {
     "data": {
      "text/plain": [
       "0     Jähriger fällt wohl bis Saisonende aus. Wien ...\n",
       "1    Erfundene Bilder zu Filmen, die als verloren g...\n",
       "2    Der frischgekürte CEO Sundar Pichai setzt auf ...\n",
       "3    Putin Einigung, dass wir Menge auf Niveau von ...\n",
       "4    Estland sieht den künftigen österreichischen P...\n",
       "Name: text, dtype: object"
      ]
     },
     "execution_count": 16,
     "metadata": {},
     "output_type": "execute_result"
    }
   ],
   "source": [
    "data[\"text\"].head(5)"
   ]
  },
  {
   "cell_type": "code",
   "execution_count": 21,
   "id": "ca5fcff3",
   "metadata": {},
   "outputs": [
    {
     "name": "stdout",
     "output_type": "stream",
     "text": [
      "Requirement already satisfied: fasttext in c:\\programdata\\anaconda3\\envs\\tf-gpu\\lib\\site-packages (0.9.2)\n",
      "Requirement already satisfied: setuptools>=0.7.0 in c:\\programdata\\anaconda3\\envs\\tf-gpu\\lib\\site-packages (from fasttext) (58.0.4)\n",
      "Requirement already satisfied: numpy in c:\\programdata\\anaconda3\\envs\\tf-gpu\\lib\\site-packages (from fasttext) (1.21.5)\n",
      "Requirement already satisfied: pybind11>=2.2 in c:\\programdata\\anaconda3\\envs\\tf-gpu\\lib\\site-packages (from fasttext) (2.10.1)\n"
     ]
    }
   ],
   "source": [
    "!pip install fasttext\n",
    "\n",
    "pretrained_model = \"fasttext/supervised-models/lid.176.ftz\"\n",
    "download(url=\"https://dl.fbaipublicfiles.com/\"+pretrained_model, path = pretrained_model)\n",
    "\n",
    "def predict_lang(text):\n",
    "    \"\"\"Predicts the language of a sentence\n",
    "\n",
    "    Parameters\n",
    "    ----------\n",
    "    text : str\n",
    "        The text to predict the language\n",
    "    model: fasttext model\n",
    "        Fasttext model to predict the language\n",
    "        \n",
    "    Returns\n",
    "    -------\n",
    "    str\n",
    "        The predicted language (e.g. en, de, ...)\n",
    "    \"\"\"\n",
    "    \n",
    "    lang = model.predict(text)[0]\n",
    "    return str(lang)[11:13]\n",
    "\n",
    "def predict_lang_df(df, field_read=\"text\"):\n",
    "    \"\"\"Predicts the language of a column of text by calling predict_lang (primarily meant for parallel processing)\n",
    "\n",
    "    Parameters\n",
    "    ----------\n",
    "    df : dataframe\n",
    "        The dataframe\n",
    "    field_read : str\n",
    "        The column name to read from (default is text)\n",
    "        \n",
    "    Returns\n",
    "    -------\n",
    "    series\n",
    "        The series with the predicted language\n",
    "    \"\"\"\n",
    "    import fasttext\n",
    "    from fhnw.nlp.utils.storage import download\n",
    "    \n",
    "    pretrained_model = \"fasttext/supervised-models/lid.176.ftz\"\n",
    "    download(url=\"https://dl.fbaipublicfiles.com/\"+pretrained_model, path = pretrained_model)\n",
    "\n",
    "    model = fasttext.load_model(pretrained_model)\n",
    "    \n",
    "    series = df[field_read].map(\n",
    "        lambda x: str(model.predict(x)[0])[11:13]\n",
    "    )\n",
    "    \n",
    "    return series"
   ]
  },
  {
   "cell_type": "code",
   "execution_count": 22,
   "id": "d5be08ed",
   "metadata": {},
   "outputs": [
    {
     "name": "stdout",
     "output_type": "stream",
     "text": [
      "CPU times: total: 109 ms\n",
      "Wall time: 1.53 s\n"
     ]
    }
   ],
   "source": [
    "%%time\n",
    "data = parallelize_dataframe(data, predict_lang_df, processing_mode=\"df\", n_jobs=6, field_read=\"text\", field_write=\"lang\")\n",
    "\n",
    "# In case you get an error message \"NameError: name 'model' is not defined\" on your local machine\n",
    "# you can also execute the above code as follows (without parallelization)\n",
    "# data = pd.concat([data, data[\"text\"].map(predict_lang).to_frame(\"lang\")], axis=1)"
   ]
  },
  {
   "cell_type": "code",
   "execution_count": 23,
   "id": "9e47162b",
   "metadata": {},
   "outputs": [
    {
     "data": {
      "text/html": [
       "<div>\n",
       "<style scoped>\n",
       "    .dataframe tbody tr th:only-of-type {\n",
       "        vertical-align: middle;\n",
       "    }\n",
       "\n",
       "    .dataframe tbody tr th {\n",
       "        vertical-align: top;\n",
       "    }\n",
       "\n",
       "    .dataframe thead th {\n",
       "        text-align: right;\n",
       "    }\n",
       "</style>\n",
       "<table border=\"1\" class=\"dataframe\">\n",
       "  <thead>\n",
       "    <tr style=\"text-align: right;\">\n",
       "      <th></th>\n",
       "      <th>text_original</th>\n",
       "      <th>label</th>\n",
       "      <th>text</th>\n",
       "      <th>lang</th>\n",
       "    </tr>\n",
       "  </thead>\n",
       "  <tbody>\n",
       "    <tr>\n",
       "      <th>0</th>\n",
       "      <td>21-Jähriger fällt wohl bis Saisonende aus. Wie...</td>\n",
       "      <td>Sport</td>\n",
       "      <td>Jähriger fällt wohl bis Saisonende aus. Wien ...</td>\n",
       "      <td>de</td>\n",
       "    </tr>\n",
       "    <tr>\n",
       "      <th>1</th>\n",
       "      <td>Erfundene Bilder zu Filmen, die als verloren g...</td>\n",
       "      <td>Kultur</td>\n",
       "      <td>Erfundene Bilder zu Filmen, die als verloren g...</td>\n",
       "      <td>de</td>\n",
       "    </tr>\n",
       "    <tr>\n",
       "      <th>2</th>\n",
       "      <td>Der frischgekürte CEO Sundar Pichai setzt auf ...</td>\n",
       "      <td>Web</td>\n",
       "      <td>Der frischgekürte CEO Sundar Pichai setzt auf ...</td>\n",
       "      <td>de</td>\n",
       "    </tr>\n",
       "  </tbody>\n",
       "</table>\n",
       "</div>"
      ],
      "text/plain": [
       "                                       text_original   label  \\\n",
       "0  21-Jähriger fällt wohl bis Saisonende aus. Wie...   Sport   \n",
       "1  Erfundene Bilder zu Filmen, die als verloren g...  Kultur   \n",
       "2  Der frischgekürte CEO Sundar Pichai setzt auf ...     Web   \n",
       "\n",
       "                                                text lang  \n",
       "0   Jähriger fällt wohl bis Saisonende aus. Wien ...   de  \n",
       "1  Erfundene Bilder zu Filmen, die als verloren g...   de  \n",
       "2  Der frischgekürte CEO Sundar Pichai setzt auf ...   de  "
      ]
     },
     "execution_count": 23,
     "metadata": {},
     "output_type": "execute_result"
    }
   ],
   "source": [
    "data.head(3)"
   ]
  },
  {
   "cell_type": "code",
   "execution_count": 24,
   "id": "3e6b1d85",
   "metadata": {},
   "outputs": [
    {
     "data": {
      "text/plain": [
       "de    10273\n",
       "Name: lang, dtype: int64"
      ]
     },
     "execution_count": 24,
     "metadata": {},
     "output_type": "execute_result"
    }
   ],
   "source": [
    "data[\"lang\"].value_counts()"
   ]
  },
  {
   "cell_type": "markdown",
   "id": "4b4c86d8",
   "metadata": {},
   "source": [
    "> Great! Really everything is written in German."
   ]
  },
  {
   "cell_type": "markdown",
   "id": "5880c525",
   "metadata": {},
   "source": [
    "## exploratory data analysis"
   ]
  },
  {
   "cell_type": "markdown",
   "id": "3724c126",
   "metadata": {},
   "source": [
    "## base model"
   ]
  },
  {
   "cell_type": "markdown",
   "id": "86d8af4f",
   "metadata": {},
   "source": [
    "## base model evaluation"
   ]
  },
  {
   "cell_type": "markdown",
   "id": "a59fdf87",
   "metadata": {},
   "source": [
    "## base model improvement"
   ]
  },
  {
   "cell_type": "markdown",
   "id": "e2fec2cb",
   "metadata": {},
   "source": [
    "## advanced model"
   ]
  },
  {
   "cell_type": "markdown",
   "id": "ca769aa2",
   "metadata": {},
   "source": [
    "## advanced model evalutation"
   ]
  },
  {
   "cell_type": "markdown",
   "id": "ccfc14bd",
   "metadata": {},
   "source": [
    "## advanced model improvement"
   ]
  },
  {
   "cell_type": "markdown",
   "id": "dbfa151f",
   "metadata": {},
   "source": [
    "## credits:\n",
    "- Main NLP Inputs: <a href=\"https://github.com/markif/2021_HS_DAS_NLP_Notebooks\">markif/2021_HS_DAS_NLP_Notebooks</a>\n",
    "- Visualization of missing values: <a href=\"https://github.com/ResidentMario/missingno\">ResidentMario/missingno</a>"
   ]
  }
 ],
 "metadata": {
  "kernelspec": {
   "display_name": "Python 3 (ipykernel)",
   "language": "python",
   "name": "python3"
  },
  "language_info": {
   "codemirror_mode": {
    "name": "ipython",
    "version": 3
   },
   "file_extension": ".py",
   "mimetype": "text/x-python",
   "name": "python",
   "nbconvert_exporter": "python",
   "pygments_lexer": "ipython3",
   "version": "3.9.12"
  }
 },
 "nbformat": 4,
 "nbformat_minor": 5
}
